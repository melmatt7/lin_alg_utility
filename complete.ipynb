{
 "metadata": {
  "language_info": {
   "codemirror_mode": {
    "name": "ipython",
    "version": 3
   },
   "file_extension": ".py",
   "mimetype": "text/x-python",
   "name": "python",
   "nbconvert_exporter": "python",
   "pygments_lexer": "ipython3",
   "version": "3.8.5-final"
  },
  "orig_nbformat": 2,
  "kernelspec": {
   "name": "python3",
   "display_name": "Python 3",
   "language": "python"
  }
 },
 "nbformat": 4,
 "nbformat_minor": 2,
 "cells": [
  {
   "cell_type": "code",
   "execution_count": 29,
   "metadata": {},
   "outputs": [],
   "source": [
    "from fractions import Fraction\n",
    "from functools import reduce\n",
    "\n",
    "import matplotlib.pyplot as plt\n",
    "import numpy as np\n",
    "from scipy.interpolate import interp1d, lagrange\n",
    "import scipy\n",
    "import scipy.linalg as la \n",
    "from sympy import *\n",
    "\n",
    "from interpolation import monomial, lagrange, newton, cubic_spline\n",
    "from finite_difference import finite_difference\n",
    "from fundamental_subspace import fundamental_subspace\n",
    "from householder import householdersQR\n",
    "from gram_schmidt import gram_schmidt, projection\n",
    "from power_method import power_method, power_method_about\n",
    "\n",
    "np.set_printoptions(suppress=True, formatter={\"all\": lambda x: str(Fraction(x).limit_denominator())})\n",
    "\n",
    "def projection_matrix(A):\n",
    "    return A@np.linalg.inv(np.transpose(A)@A)@np.transpose(A)\n",
    "\n",
    "def projection_vector(a):\n",
    "    # s2 onto v1\n",
    "    return (1/np.linalg.norm(a)**2)*(a*np.transpose(a))\n",
    "# def inverse_iteration(mat, start, maxit):\n",
    "#     matinv = np.inv(mat)\n",
    "#     y1 = matinv@start\n",
    "#     for i in rang(maxit):\n",
    "#         xnew = A@ynew\n",
    "\n",
    "# def eigenvalue(A, eigvec):\n",
    "#     return np.dot(np.transpose(eigvec), A.dot(eigvec))/np.dot(np.transpose(eigvec), eigvec)\n",
    "\n",
    "# def inverse_power_method(A, x, maxit):\n",
    "#     eigenvec = x\n",
    "#     eigenval = eigenvalue(A, eigenvec)\n",
    "#     for _ in range(maxit):\n",
    "#         new_eigenvec = solve(A, eigenvec)\n",
    "#         new_eigenvec /= np.linalg.norm(new_eigenvec)\n",
    "#         new_eigenval = eigenvalue(A, new_eigenvec)\n",
    "#         eigenvec = new_eigenvec\n",
    "#         eigenval = new_eigenval\n",
    "#     return eigenvec\n",
    "\n",
    "\n",
    "#     return\n",
    "\n",
    "\n",
    "#  npQ, npR = np.linalg.qr(np.matrix([\n",
    "#     [1, 2, 1],\n",
    "#     [0, 0, 1],\n",
    "#     [2, 2, 1],\n",
    "#     [2, 1, 0]\n",
    "# ]), \"complete\")\n",
    "\n"
   ]
  },
  {
   "cell_type": "code",
   "execution_count": 2,
   "metadata": {},
   "outputs": [
    {
     "output_type": "stream",
     "name": "stdout",
     "text": [
      "alpha: [[3]]\nu: [[0]\n [-5]\n [2]\n [1]]\nH: [[1 0 0 0]\n [0 -2/3 2/3 1/3]\n [0 2/3 11/15 -2/15]\n [0 1/3 -2/15 14/15]]\n[[2 0 1]\n [-1 3 -10/3]\n [2 0 8/15]\n [6 0 19/15]]\n"
     ]
    }
   ],
   "source": [
    "A = np.matrix([\n",
    "    [2, 0, 1],\n",
    "    [4, -2, 3],\n",
    "    [0, 2, -2],\n",
    "    [5, 1, 0]])\n",
    "\n",
    "Q2, R2 = householdersQR(A, 1)\n",
    "\n",
    "print(R2)\n"
   ]
  },
  {
   "cell_type": "code",
   "execution_count": 3,
   "metadata": {},
   "outputs": [
    {
     "output_type": "stream",
     "name": "stdout",
     "text": [
      "[[-791/400 16027/16000 0 0 0 0 0 0 0 0 0 0 0 0 0 0 0 0 0]\n [3973/4000 -791/400 4027/4000 0 0 0 0 0 0 0 0 0 0 0 0 0 0 0 0]\n [0 15757/16000 -791/400 16243/16000 0 0 0 0 0 0 0 0 0 0 0 0 0 0 0]\n [0 0 973/1000 -791/400 1027/1000 0 0 0 0 0 0 0 0 0 0 0 0 0 0]\n [0 0 0 613/640 -791/400 667/640 0 0 0 0 0 0 0 0 0 0 0 0 0]\n [0 0 0 0 3757/4000 -791/400 4243/4000 0 0 0 0 0 0 0 0 0 0 0 0]\n [0 0 0 0 0 14677/16000 -791/400 17323/16000 0 0 0 0 0 0 0 0 0 0 0]\n [0 0 0 0 0 0 223/250 -791/400 277/250 0 0 0 0 0 0 0 0 0 0]\n [0 0 0 0 0 0 0 13813/16000 -791/400 18187/16000 0 0 0 0 0 0 0 0 0]\n [0 0 0 0 0 0 0 0 133/160 -791/400 187/160 0 0 0 0 0 0 0 0]\n [0 0 0 0 0 0 0 0 0 12733/16000 -791/400 19267/16000 0 0 0 0 0 0 0]\n [0 0 0 0 0 0 0 0 0 0 757/1000 -791/400 1243/1000 0 0 0 0 0 0]\n [0 0 0 0 0 0 0 0 0 0 0 11437/16000 -791/400 20563/16000 0 0 0 0 0]\n [0 0 0 0 0 0 0 0 0 0 0 0 2677/4000 -791/400 5323/4000 0 0 0 0]\n [0 0 0 0 0 0 0 0 0 0 0 0 0 397/640 -791/400 883/640 0 0 0]\n [0 0 0 0 0 0 0 0 0 0 0 0 0 0 71/125 -791/400 179/125 0 0]\n [0 0 0 0 0 0 0 0 0 0 0 0 0 0 0 8197/16000 -791/400 23803/16000 0]\n [0 0 0 0 0 0 0 0 0 0 0 0 0 0 0 0 1813/4000 -791/400 6187/4000]\n [0 0 0 0 0 0 0 0 0 0 0 0 0 0 0 0 0 6253/16000 -791/400]]\n[20915/940112 15610/726213 18247/900639 9843/530047 14849/901962\n 12092/864565 982/87715 7414/909353 3101/629306 787/494475 -1638/920111\n -2630/514471 -7503/900821 -7971/701732 -3518/248905 -5159/310945\n -18448/987781 -14861/730571 -20037/929782]\n"
     ]
    },
    {
     "output_type": "display_data",
     "data": {
      "text/plain": "<Figure size 432x288 with 1 Axes>",
      "image/svg+xml": "<?xml version=\"1.0\" encoding=\"utf-8\" standalone=\"no\"?>\n<!DOCTYPE svg PUBLIC \"-//W3C//DTD SVG 1.1//EN\"\n  \"http://www.w3.org/Graphics/SVG/1.1/DTD/svg11.dtd\">\n<!-- Created with matplotlib (https://matplotlib.org/) -->\n<svg height=\"248.518125pt\" version=\"1.1\" viewBox=\"0 0 386.845313 248.518125\" width=\"386.845313pt\" xmlns=\"http://www.w3.org/2000/svg\" xmlns:xlink=\"http://www.w3.org/1999/xlink\">\n <metadata>\n  <rdf:RDF xmlns:cc=\"http://creativecommons.org/ns#\" xmlns:dc=\"http://purl.org/dc/elements/1.1/\" xmlns:rdf=\"http://www.w3.org/1999/02/22-rdf-syntax-ns#\">\n   <cc:Work>\n    <dc:type rdf:resource=\"http://purl.org/dc/dcmitype/StillImage\"/>\n    <dc:date>2020-12-13T23:10:34.546474</dc:date>\n    <dc:format>image/svg+xml</dc:format>\n    <dc:creator>\n     <cc:Agent>\n      <dc:title>Matplotlib v3.3.2, https://matplotlib.org/</dc:title>\n     </cc:Agent>\n    </dc:creator>\n   </cc:Work>\n  </rdf:RDF>\n </metadata>\n <defs>\n  <style type=\"text/css\">*{stroke-linecap:butt;stroke-linejoin:round;}</style>\n </defs>\n <g id=\"figure_1\">\n  <g id=\"patch_1\">\n   <path d=\"M 0 248.518125 \nL 386.845313 248.518125 \nL 386.845313 0 \nL 0 0 \nz\n\" style=\"fill:none;\"/>\n  </g>\n  <g id=\"axes_1\">\n   <g id=\"patch_2\">\n    <path d=\"M 44.845313 224.64 \nL 379.645313 224.64 \nL 379.645313 7.2 \nL 44.845313 7.2 \nz\n\" style=\"fill:#ffffff;\"/>\n   </g>\n   <g id=\"matplotlib.axis_1\">\n    <g id=\"xtick_1\">\n     <g id=\"line2d_1\">\n      <defs>\n       <path d=\"M 0 0 \nL 0 3.5 \n\" id=\"m2b3afe0494\" style=\"stroke:#000000;stroke-width:0.8;\"/>\n      </defs>\n      <g>\n       <use style=\"stroke:#000000;stroke-width:0.8;\" x=\"60.063494\" xlink:href=\"#m2b3afe0494\" y=\"224.64\"/>\n      </g>\n     </g>\n     <g id=\"text_1\">\n      <!-- 0.0 -->\n      <g transform=\"translate(52.111932 239.238437)scale(0.1 -0.1)\">\n       <defs>\n        <path d=\"M 31.78125 66.40625 \nQ 24.171875 66.40625 20.328125 58.90625 \nQ 16.5 51.421875 16.5 36.375 \nQ 16.5 21.390625 20.328125 13.890625 \nQ 24.171875 6.390625 31.78125 6.390625 \nQ 39.453125 6.390625 43.28125 13.890625 \nQ 47.125 21.390625 47.125 36.375 \nQ 47.125 51.421875 43.28125 58.90625 \nQ 39.453125 66.40625 31.78125 66.40625 \nz\nM 31.78125 74.21875 \nQ 44.046875 74.21875 50.515625 64.515625 \nQ 56.984375 54.828125 56.984375 36.375 \nQ 56.984375 17.96875 50.515625 8.265625 \nQ 44.046875 -1.421875 31.78125 -1.421875 \nQ 19.53125 -1.421875 13.0625 8.265625 \nQ 6.59375 17.96875 6.59375 36.375 \nQ 6.59375 54.828125 13.0625 64.515625 \nQ 19.53125 74.21875 31.78125 74.21875 \nz\n\" id=\"DejaVuSans-48\"/>\n        <path d=\"M 10.6875 12.40625 \nL 21 12.40625 \nL 21 0 \nL 10.6875 0 \nz\n\" id=\"DejaVuSans-46\"/>\n       </defs>\n       <use xlink:href=\"#DejaVuSans-48\"/>\n       <use x=\"63.623047\" xlink:href=\"#DejaVuSans-46\"/>\n       <use x=\"95.410156\" xlink:href=\"#DejaVuSans-48\"/>\n      </g>\n     </g>\n    </g>\n    <g id=\"xtick_2\">\n     <g id=\"line2d_2\">\n      <g>\n       <use style=\"stroke:#000000;stroke-width:0.8;\" x=\"110.790767\" xlink:href=\"#m2b3afe0494\" y=\"224.64\"/>\n      </g>\n     </g>\n     <g id=\"text_2\">\n      <!-- 0.5 -->\n      <g transform=\"translate(102.839205 239.238437)scale(0.1 -0.1)\">\n       <defs>\n        <path d=\"M 10.796875 72.90625 \nL 49.515625 72.90625 \nL 49.515625 64.59375 \nL 19.828125 64.59375 \nL 19.828125 46.734375 \nQ 21.96875 47.46875 24.109375 47.828125 \nQ 26.265625 48.1875 28.421875 48.1875 \nQ 40.625 48.1875 47.75 41.5 \nQ 54.890625 34.8125 54.890625 23.390625 \nQ 54.890625 11.625 47.5625 5.09375 \nQ 40.234375 -1.421875 26.90625 -1.421875 \nQ 22.3125 -1.421875 17.546875 -0.640625 \nQ 12.796875 0.140625 7.71875 1.703125 \nL 7.71875 11.625 \nQ 12.109375 9.234375 16.796875 8.0625 \nQ 21.484375 6.890625 26.703125 6.890625 \nQ 35.15625 6.890625 40.078125 11.328125 \nQ 45.015625 15.765625 45.015625 23.390625 \nQ 45.015625 31 40.078125 35.4375 \nQ 35.15625 39.890625 26.703125 39.890625 \nQ 22.75 39.890625 18.8125 39.015625 \nQ 14.890625 38.140625 10.796875 36.28125 \nz\n\" id=\"DejaVuSans-53\"/>\n       </defs>\n       <use xlink:href=\"#DejaVuSans-48\"/>\n       <use x=\"63.623047\" xlink:href=\"#DejaVuSans-46\"/>\n       <use x=\"95.410156\" xlink:href=\"#DejaVuSans-53\"/>\n      </g>\n     </g>\n    </g>\n    <g id=\"xtick_3\">\n     <g id=\"line2d_3\">\n      <g>\n       <use style=\"stroke:#000000;stroke-width:0.8;\" x=\"161.51804\" xlink:href=\"#m2b3afe0494\" y=\"224.64\"/>\n      </g>\n     </g>\n     <g id=\"text_3\">\n      <!-- 1.0 -->\n      <g transform=\"translate(153.566477 239.238437)scale(0.1 -0.1)\">\n       <defs>\n        <path d=\"M 12.40625 8.296875 \nL 28.515625 8.296875 \nL 28.515625 63.921875 \nL 10.984375 60.40625 \nL 10.984375 69.390625 \nL 28.421875 72.90625 \nL 38.28125 72.90625 \nL 38.28125 8.296875 \nL 54.390625 8.296875 \nL 54.390625 0 \nL 12.40625 0 \nz\n\" id=\"DejaVuSans-49\"/>\n       </defs>\n       <use xlink:href=\"#DejaVuSans-49\"/>\n       <use x=\"63.623047\" xlink:href=\"#DejaVuSans-46\"/>\n       <use x=\"95.410156\" xlink:href=\"#DejaVuSans-48\"/>\n      </g>\n     </g>\n    </g>\n    <g id=\"xtick_4\">\n     <g id=\"line2d_4\">\n      <g>\n       <use style=\"stroke:#000000;stroke-width:0.8;\" x=\"212.245313\" xlink:href=\"#m2b3afe0494\" y=\"224.64\"/>\n      </g>\n     </g>\n     <g id=\"text_4\">\n      <!-- 1.5 -->\n      <g transform=\"translate(204.29375 239.238437)scale(0.1 -0.1)\">\n       <use xlink:href=\"#DejaVuSans-49\"/>\n       <use x=\"63.623047\" xlink:href=\"#DejaVuSans-46\"/>\n       <use x=\"95.410156\" xlink:href=\"#DejaVuSans-53\"/>\n      </g>\n     </g>\n    </g>\n    <g id=\"xtick_5\">\n     <g id=\"line2d_5\">\n      <g>\n       <use style=\"stroke:#000000;stroke-width:0.8;\" x=\"262.972585\" xlink:href=\"#m2b3afe0494\" y=\"224.64\"/>\n      </g>\n     </g>\n     <g id=\"text_5\">\n      <!-- 2.0 -->\n      <g transform=\"translate(255.021023 239.238437)scale(0.1 -0.1)\">\n       <defs>\n        <path d=\"M 19.1875 8.296875 \nL 53.609375 8.296875 \nL 53.609375 0 \nL 7.328125 0 \nL 7.328125 8.296875 \nQ 12.9375 14.109375 22.625 23.890625 \nQ 32.328125 33.6875 34.8125 36.53125 \nQ 39.546875 41.84375 41.421875 45.53125 \nQ 43.3125 49.21875 43.3125 52.78125 \nQ 43.3125 58.59375 39.234375 62.25 \nQ 35.15625 65.921875 28.609375 65.921875 \nQ 23.96875 65.921875 18.8125 64.3125 \nQ 13.671875 62.703125 7.8125 59.421875 \nL 7.8125 69.390625 \nQ 13.765625 71.78125 18.9375 73 \nQ 24.125 74.21875 28.421875 74.21875 \nQ 39.75 74.21875 46.484375 68.546875 \nQ 53.21875 62.890625 53.21875 53.421875 \nQ 53.21875 48.921875 51.53125 44.890625 \nQ 49.859375 40.875 45.40625 35.40625 \nQ 44.1875 33.984375 37.640625 27.21875 \nQ 31.109375 20.453125 19.1875 8.296875 \nz\n\" id=\"DejaVuSans-50\"/>\n       </defs>\n       <use xlink:href=\"#DejaVuSans-50\"/>\n       <use x=\"63.623047\" xlink:href=\"#DejaVuSans-46\"/>\n       <use x=\"95.410156\" xlink:href=\"#DejaVuSans-48\"/>\n      </g>\n     </g>\n    </g>\n    <g id=\"xtick_6\">\n     <g id=\"line2d_6\">\n      <g>\n       <use style=\"stroke:#000000;stroke-width:0.8;\" x=\"313.699858\" xlink:href=\"#m2b3afe0494\" y=\"224.64\"/>\n      </g>\n     </g>\n     <g id=\"text_6\">\n      <!-- 2.5 -->\n      <g transform=\"translate(305.748295 239.238437)scale(0.1 -0.1)\">\n       <use xlink:href=\"#DejaVuSans-50\"/>\n       <use x=\"63.623047\" xlink:href=\"#DejaVuSans-46\"/>\n       <use x=\"95.410156\" xlink:href=\"#DejaVuSans-53\"/>\n      </g>\n     </g>\n    </g>\n    <g id=\"xtick_7\">\n     <g id=\"line2d_7\">\n      <g>\n       <use style=\"stroke:#000000;stroke-width:0.8;\" x=\"364.427131\" xlink:href=\"#m2b3afe0494\" y=\"224.64\"/>\n      </g>\n     </g>\n     <g id=\"text_7\">\n      <!-- 3.0 -->\n      <g transform=\"translate(356.475568 239.238437)scale(0.1 -0.1)\">\n       <defs>\n        <path d=\"M 40.578125 39.3125 \nQ 47.65625 37.796875 51.625 33 \nQ 55.609375 28.21875 55.609375 21.1875 \nQ 55.609375 10.40625 48.1875 4.484375 \nQ 40.765625 -1.421875 27.09375 -1.421875 \nQ 22.515625 -1.421875 17.65625 -0.515625 \nQ 12.796875 0.390625 7.625 2.203125 \nL 7.625 11.71875 \nQ 11.71875 9.328125 16.59375 8.109375 \nQ 21.484375 6.890625 26.8125 6.890625 \nQ 36.078125 6.890625 40.9375 10.546875 \nQ 45.796875 14.203125 45.796875 21.1875 \nQ 45.796875 27.640625 41.28125 31.265625 \nQ 36.765625 34.90625 28.71875 34.90625 \nL 20.21875 34.90625 \nL 20.21875 43.015625 \nL 29.109375 43.015625 \nQ 36.375 43.015625 40.234375 45.921875 \nQ 44.09375 48.828125 44.09375 54.296875 \nQ 44.09375 59.90625 40.109375 62.90625 \nQ 36.140625 65.921875 28.71875 65.921875 \nQ 24.65625 65.921875 20.015625 65.03125 \nQ 15.375 64.15625 9.8125 62.3125 \nL 9.8125 71.09375 \nQ 15.4375 72.65625 20.34375 73.4375 \nQ 25.25 74.21875 29.59375 74.21875 \nQ 40.828125 74.21875 47.359375 69.109375 \nQ 53.90625 64.015625 53.90625 55.328125 \nQ 53.90625 49.265625 50.4375 45.09375 \nQ 46.96875 40.921875 40.578125 39.3125 \nz\n\" id=\"DejaVuSans-51\"/>\n       </defs>\n       <use xlink:href=\"#DejaVuSans-51\"/>\n       <use x=\"63.623047\" xlink:href=\"#DejaVuSans-46\"/>\n       <use x=\"95.410156\" xlink:href=\"#DejaVuSans-48\"/>\n      </g>\n     </g>\n    </g>\n   </g>\n   <g id=\"matplotlib.axis_2\">\n    <g id=\"ytick_1\">\n     <g id=\"line2d_8\">\n      <defs>\n       <path d=\"M 0 0 \nL -3.5 0 \n\" id=\"m950f806bf5\" style=\"stroke:#000000;stroke-width:0.8;\"/>\n      </defs>\n      <g>\n       <use style=\"stroke:#000000;stroke-width:0.8;\" x=\"44.845313\" xlink:href=\"#m950f806bf5\" y=\"201.037222\"/>\n      </g>\n     </g>\n     <g id=\"text_8\">\n      <!-- −0.15 -->\n      <g transform=\"translate(7.2 204.83644)scale(0.1 -0.1)\">\n       <defs>\n        <path d=\"M 10.59375 35.5 \nL 73.1875 35.5 \nL 73.1875 27.203125 \nL 10.59375 27.203125 \nz\n\" id=\"DejaVuSans-8722\"/>\n       </defs>\n       <use xlink:href=\"#DejaVuSans-8722\"/>\n       <use x=\"83.789062\" xlink:href=\"#DejaVuSans-48\"/>\n       <use x=\"147.412109\" xlink:href=\"#DejaVuSans-46\"/>\n       <use x=\"179.199219\" xlink:href=\"#DejaVuSans-49\"/>\n       <use x=\"242.822266\" xlink:href=\"#DejaVuSans-53\"/>\n      </g>\n     </g>\n    </g>\n    <g id=\"ytick_2\">\n     <g id=\"line2d_9\">\n      <g>\n       <use style=\"stroke:#000000;stroke-width:0.8;\" x=\"44.845313\" xlink:href=\"#m950f806bf5\" y=\"166.526644\"/>\n      </g>\n     </g>\n     <g id=\"text_9\">\n      <!-- −0.10 -->\n      <g transform=\"translate(7.2 170.325863)scale(0.1 -0.1)\">\n       <use xlink:href=\"#DejaVuSans-8722\"/>\n       <use x=\"83.789062\" xlink:href=\"#DejaVuSans-48\"/>\n       <use x=\"147.412109\" xlink:href=\"#DejaVuSans-46\"/>\n       <use x=\"179.199219\" xlink:href=\"#DejaVuSans-49\"/>\n       <use x=\"242.822266\" xlink:href=\"#DejaVuSans-48\"/>\n      </g>\n     </g>\n    </g>\n    <g id=\"ytick_3\">\n     <g id=\"line2d_10\">\n      <g>\n       <use style=\"stroke:#000000;stroke-width:0.8;\" x=\"44.845313\" xlink:href=\"#m950f806bf5\" y=\"132.016067\"/>\n      </g>\n     </g>\n     <g id=\"text_10\">\n      <!-- −0.05 -->\n      <g transform=\"translate(7.2 135.815286)scale(0.1 -0.1)\">\n       <use xlink:href=\"#DejaVuSans-8722\"/>\n       <use x=\"83.789062\" xlink:href=\"#DejaVuSans-48\"/>\n       <use x=\"147.412109\" xlink:href=\"#DejaVuSans-46\"/>\n       <use x=\"179.199219\" xlink:href=\"#DejaVuSans-48\"/>\n       <use x=\"242.822266\" xlink:href=\"#DejaVuSans-53\"/>\n      </g>\n     </g>\n    </g>\n    <g id=\"ytick_4\">\n     <g id=\"line2d_11\">\n      <g>\n       <use style=\"stroke:#000000;stroke-width:0.8;\" x=\"44.845313\" xlink:href=\"#m950f806bf5\" y=\"97.505489\"/>\n      </g>\n     </g>\n     <g id=\"text_11\">\n      <!-- 0.00 -->\n      <g transform=\"translate(15.579688 101.304708)scale(0.1 -0.1)\">\n       <use xlink:href=\"#DejaVuSans-48\"/>\n       <use x=\"63.623047\" xlink:href=\"#DejaVuSans-46\"/>\n       <use x=\"95.410156\" xlink:href=\"#DejaVuSans-48\"/>\n       <use x=\"159.033203\" xlink:href=\"#DejaVuSans-48\"/>\n      </g>\n     </g>\n    </g>\n    <g id=\"ytick_5\">\n     <g id=\"line2d_12\">\n      <g>\n       <use style=\"stroke:#000000;stroke-width:0.8;\" x=\"44.845313\" xlink:href=\"#m950f806bf5\" y=\"62.994912\"/>\n      </g>\n     </g>\n     <g id=\"text_12\">\n      <!-- 0.05 -->\n      <g transform=\"translate(15.579688 66.794131)scale(0.1 -0.1)\">\n       <use xlink:href=\"#DejaVuSans-48\"/>\n       <use x=\"63.623047\" xlink:href=\"#DejaVuSans-46\"/>\n       <use x=\"95.410156\" xlink:href=\"#DejaVuSans-48\"/>\n       <use x=\"159.033203\" xlink:href=\"#DejaVuSans-53\"/>\n      </g>\n     </g>\n    </g>\n    <g id=\"ytick_6\">\n     <g id=\"line2d_13\">\n      <g>\n       <use style=\"stroke:#000000;stroke-width:0.8;\" x=\"44.845313\" xlink:href=\"#m950f806bf5\" y=\"28.484334\"/>\n      </g>\n     </g>\n     <g id=\"text_13\">\n      <!-- 0.10 -->\n      <g transform=\"translate(15.579688 32.283553)scale(0.1 -0.1)\">\n       <use xlink:href=\"#DejaVuSans-48\"/>\n       <use x=\"63.623047\" xlink:href=\"#DejaVuSans-46\"/>\n       <use x=\"95.410156\" xlink:href=\"#DejaVuSans-49\"/>\n       <use x=\"159.033203\" xlink:href=\"#DejaVuSans-48\"/>\n      </g>\n     </g>\n    </g>\n   </g>\n   <g id=\"line2d_14\">\n    <path clip-path=\"url(#pca3d497963)\" d=\"M 60.063494 97.505489 \nL 75.281676 152.263202 \nL 90.499858 190.276936 \nL 105.71804 210.97089 \nL 120.936222 214.756364 \nL 136.154403 203.293713 \nL 151.372585 179.572206 \nL 166.590767 147.726455 \nL 181.808949 112.564291 \nL 197.027131 78.872231 \nL 212.245313 50.65986 \nL 227.463494 30.556298 \nL 242.681676 19.54175 \nL 257.899858 17.083636 \nL 273.11804 21.597547 \nL 288.336222 31.042598 \nL 303.554403 43.443728 \nL 318.772585 57.208936 \nL 333.990767 71.223501 \nL 349.208949 84.789669 \nL 364.427131 97.505489 \n\" style=\"fill:none;stroke:#1f77b4;stroke-linecap:square;stroke-width:1.5;\"/>\n    <defs>\n     <path d=\"M 0 3 \nC 0.795609 3 1.55874 2.683901 2.12132 2.12132 \nC 2.683901 1.55874 3 0.795609 3 0 \nC 3 -0.795609 2.683901 -1.55874 2.12132 -2.12132 \nC 1.55874 -2.683901 0.795609 -3 0 -3 \nC -0.795609 -3 -1.55874 -2.683901 -2.12132 -2.12132 \nC -2.683901 -1.55874 -3 -0.795609 -3 0 \nC -3 0.795609 -2.683901 1.55874 -2.12132 2.12132 \nC -1.55874 2.683901 -0.795609 3 0 3 \nz\n\" id=\"m5780b767a5\" style=\"stroke:#1f77b4;\"/>\n    </defs>\n    <g clip-path=\"url(#pca3d497963)\">\n     <use style=\"fill:#1f77b4;stroke:#1f77b4;\" x=\"60.063494\" xlink:href=\"#m5780b767a5\" y=\"97.505489\"/>\n     <use style=\"fill:#1f77b4;stroke:#1f77b4;\" x=\"75.281676\" xlink:href=\"#m5780b767a5\" y=\"152.263202\"/>\n     <use style=\"fill:#1f77b4;stroke:#1f77b4;\" x=\"90.499858\" xlink:href=\"#m5780b767a5\" y=\"190.276936\"/>\n     <use style=\"fill:#1f77b4;stroke:#1f77b4;\" x=\"105.71804\" xlink:href=\"#m5780b767a5\" y=\"210.97089\"/>\n     <use style=\"fill:#1f77b4;stroke:#1f77b4;\" x=\"120.936222\" xlink:href=\"#m5780b767a5\" y=\"214.756364\"/>\n     <use style=\"fill:#1f77b4;stroke:#1f77b4;\" x=\"136.154403\" xlink:href=\"#m5780b767a5\" y=\"203.293713\"/>\n     <use style=\"fill:#1f77b4;stroke:#1f77b4;\" x=\"151.372585\" xlink:href=\"#m5780b767a5\" y=\"179.572206\"/>\n     <use style=\"fill:#1f77b4;stroke:#1f77b4;\" x=\"166.590767\" xlink:href=\"#m5780b767a5\" y=\"147.726455\"/>\n     <use style=\"fill:#1f77b4;stroke:#1f77b4;\" x=\"181.808949\" xlink:href=\"#m5780b767a5\" y=\"112.564291\"/>\n     <use style=\"fill:#1f77b4;stroke:#1f77b4;\" x=\"197.027131\" xlink:href=\"#m5780b767a5\" y=\"78.872231\"/>\n     <use style=\"fill:#1f77b4;stroke:#1f77b4;\" x=\"212.245313\" xlink:href=\"#m5780b767a5\" y=\"50.65986\"/>\n     <use style=\"fill:#1f77b4;stroke:#1f77b4;\" x=\"227.463494\" xlink:href=\"#m5780b767a5\" y=\"30.556298\"/>\n     <use style=\"fill:#1f77b4;stroke:#1f77b4;\" x=\"242.681676\" xlink:href=\"#m5780b767a5\" y=\"19.54175\"/>\n     <use style=\"fill:#1f77b4;stroke:#1f77b4;\" x=\"257.899858\" xlink:href=\"#m5780b767a5\" y=\"17.083636\"/>\n     <use style=\"fill:#1f77b4;stroke:#1f77b4;\" x=\"273.11804\" xlink:href=\"#m5780b767a5\" y=\"21.597547\"/>\n     <use style=\"fill:#1f77b4;stroke:#1f77b4;\" x=\"288.336222\" xlink:href=\"#m5780b767a5\" y=\"31.042598\"/>\n     <use style=\"fill:#1f77b4;stroke:#1f77b4;\" x=\"303.554403\" xlink:href=\"#m5780b767a5\" y=\"43.443728\"/>\n     <use style=\"fill:#1f77b4;stroke:#1f77b4;\" x=\"318.772585\" xlink:href=\"#m5780b767a5\" y=\"57.208936\"/>\n     <use style=\"fill:#1f77b4;stroke:#1f77b4;\" x=\"333.990767\" xlink:href=\"#m5780b767a5\" y=\"71.223501\"/>\n     <use style=\"fill:#1f77b4;stroke:#1f77b4;\" x=\"349.208949\" xlink:href=\"#m5780b767a5\" y=\"84.789669\"/>\n     <use style=\"fill:#1f77b4;stroke:#1f77b4;\" x=\"364.427131\" xlink:href=\"#m5780b767a5\" y=\"97.505489\"/>\n    </g>\n   </g>\n   <g id=\"patch_3\">\n    <path d=\"M 44.845313 224.64 \nL 44.845313 7.2 \n\" style=\"fill:none;stroke:#000000;stroke-linecap:square;stroke-linejoin:miter;stroke-width:0.8;\"/>\n   </g>\n   <g id=\"patch_4\">\n    <path d=\"M 379.645313 224.64 \nL 379.645313 7.2 \n\" style=\"fill:none;stroke:#000000;stroke-linecap:square;stroke-linejoin:miter;stroke-width:0.8;\"/>\n   </g>\n   <g id=\"patch_5\">\n    <path d=\"M 44.845313 224.64 \nL 379.645313 224.64 \n\" style=\"fill:none;stroke:#000000;stroke-linecap:square;stroke-linejoin:miter;stroke-width:0.8;\"/>\n   </g>\n   <g id=\"patch_6\">\n    <path d=\"M 44.845313 7.2 \nL 379.645313 7.2 \n\" style=\"fill:none;stroke:#000000;stroke-linecap:square;stroke-linejoin:miter;stroke-width:0.8;\"/>\n   </g>\n  </g>\n </g>\n <defs>\n  <clipPath id=\"pca3d497963\">\n   <rect height=\"217.44\" width=\"334.8\" x=\"44.845313\" y=\"7.2\"/>\n  </clipPath>\n </defs>\n</svg>\n",
      "image/png": "[encoded data removed]"
     },
     "metadata": {
      "needs_background": "light"
     }
    },
    {
     "output_type": "execute_result",
     "data": {
      "text/plain": [
       "array([0, -16694/210425, -107878/802603, -160697/977522, -35042/206279,\n",
       "       -71715/467902, -98947/832181, -12604/173223, -14471/663270,\n",
       "       26483/980981, 60919/897565, 5241/54032, 107830/954617,\n",
       "       18601/159641, 4259/38726, 46049/478215, 24147/308287, 47123/807137,\n",
       "       31837/836096, 16883/916405, 0])"
      ]
     },
     "metadata": {},
     "execution_count": 3
    }
   ],
   "source": [
    "finite_difference(t0=0, tf=3, p=lambda t: t ** 2, q=lambda t: 1, r=lambda t: np.cos(t), alpha=0, beta=0, N=19)"
   ]
  },
  {
   "cell_type": "code",
   "execution_count": 4,
   "metadata": {},
   "outputs": [
    {
     "output_type": "stream",
     "name": "stdout",
     "text": [
      "[-3 1 2] [4/7 8/7 2/7]\n"
     ]
    }
   ],
   "source": [
    "v1, v2 = gram_schmidt(np.array([[-3, 1], [1, 1], [2, 0]]))\n",
    "print(v1, v2)"
   ]
  },
  {
   "cell_type": "code",
   "execution_count": 5,
   "metadata": {},
   "outputs": [
    {
     "output_type": "stream",
     "name": "stdout",
     "text": [
      "Column space of A =\n⎡⎡1 ⎤  ⎡0⎤⎤\n⎢⎢  ⎥  ⎢ ⎥⎥\n⎢⎢-2⎥, ⎢1⎥⎥\n⎢⎢  ⎥  ⎢ ⎥⎥\n⎣⎣0 ⎦  ⎣1⎦⎦\nNull space of A =\n⎡⎡4 ⎤  ⎡3⎤⎤\n⎢⎢  ⎥  ⎢ ⎥⎥\n⎢⎢-5⎥  ⎢1⎥⎥\n⎢⎢  ⎥, ⎢ ⎥⎥\n⎢⎢1 ⎥  ⎢0⎥⎥\n⎢⎢  ⎥  ⎢ ⎥⎥\n⎣⎣0 ⎦  ⎣1⎦⎦\nRow space of A =\n[[1  0  -4  -3], [0  1  5  -1]]\nLeft null space =\n⎡⎡-2⎤⎤\n⎢⎢  ⎥⎥\n⎢⎢-1⎥⎥\n⎢⎢  ⎥⎥\n⎣⎣1 ⎦⎦\n"
     ]
    }
   ],
   "source": [
    "fundamental_subspace(Matrix([[1, 0, -4, -3], [-2, 1, 13, 5], [0, 1, 5, -1]]))"
   ]
  },
  {
   "cell_type": "code",
   "execution_count": 6,
   "metadata": {},
   "outputs": [
    {
     "output_type": "execute_result",
     "data": {
      "text/plain": [
       "array([-1, -1, 3])"
      ]
     },
     "metadata": {},
     "execution_count": 6
    }
   ],
   "source": [
    "projection(np.array([-6, 4, 3]), np.array([-1, -1, 3]))"
   ]
  },
  {
   "cell_type": "code",
   "execution_count": 7,
   "metadata": {},
   "outputs": [
    {
     "output_type": "stream",
     "name": "stdout",
     "text": [
      "\nSTEP 1\n----------\nEigen Value = 1.0000\nEigen Vector: \n1.000\t\n1.000\t\n0.000\t\nerrror=[0]\n\nSTEP 2\n----------\nEigen Value = 2.0000\nEigen Vector: \n1.000\t\n1.000\t\n0.500\t\nerrror=[1]\n\nSTEP 3\n----------\nEigen Value = 2.5000\nEigen Vector: \n0.800\t\n1.000\t\n0.600\t\nerrror=[1/2]\n\nSTEP 4\n----------\nEigen Value = 2.4000\nEigen Vector: \n0.750\t\n1.000\t\n0.667\t\nNot convergent in given maximum iteration!\nNone\n"
     ]
    }
   ],
   "source": [
    "M = np.array([[1, 1, 0],[1, 1, 1], [0, 1, 1]])\n",
    "x0 = np.array([[1],[0],[0]])\n",
    "\n",
    "eigmax = power_method(M, x0, 4)\n",
    "print(eigmax)"
   ]
  },
  {
   "cell_type": "code",
   "execution_count": 2,
   "metadata": {},
   "outputs": [
    {
     "output_type": "stream",
     "name": "stdout",
     "text": [
      "[[1]\n [0]\n [0]]\n"
     ]
    }
   ],
   "source": [
    "A = np.array([[1, 1, 1],[1, 2, 0], [1, 0, 3]])\n",
    "x0 = np.array([[1], [0], [0]])\n",
    "\n",
    "eigmax = power_method_about(A, x0, 500, closest=3)\n",
    "print(eigmax)"
   ]
  },
  {
   "cell_type": "code",
   "execution_count": 59,
   "metadata": {},
   "outputs": [
    {
     "output_type": "stream",
     "name": "stdout",
     "text": [
      "[[-3/7]\n [9/14]\n [-3/14]]\nMatrix([[6.00000000000000], [5.00000000000000], [3.00000000000000]])\n1.942890293094024e-16\n"
     ]
    }
   ],
   "source": [
    "A = np.array([[2], [-3], [1]])\n",
    "P = projection_matrix(A)\n",
    "P = P\n",
    "x = np.array([[0],[1], [0]])\n",
    "print(P@x)\n",
    "\n",
    "P_ = eye(3) - P\n",
    "\n",
    "y = P_@x\n",
    "print(y*14)\n",
    "print(np.inner(np.array([2, -3, 1]), np.array([6, 5, 3])*(1/14)))"
   ]
  },
  {
   "cell_type": "code",
   "execution_count": null,
   "metadata": {},
   "outputs": [],
   "source": []
  }
 ]
}